{
 "cells": [
  {
   "cell_type": "code",
   "execution_count": 2,
   "metadata": {},
   "outputs": [],
   "source": [
    "import numpy as np\n",
    "import matplotlib.pyplot as plt\n",
    "import sympy as sp"
   ]
  },
  {
   "cell_type": "code",
   "execution_count": 13,
   "metadata": {},
   "outputs": [
    {
     "name": "stdout",
     "output_type": "stream",
     "text": [
      "[]\n"
     ]
    },
    {
     "ename": "SympifyError",
     "evalue": "SympifyError: []",
     "output_type": "error",
     "traceback": [
      "\u001b[1;31m---------------------------------------------------------------------------\u001b[0m",
      "\u001b[1;31mSympifyError\u001b[0m                              Traceback (most recent call last)",
      "Cell \u001b[1;32mIn[13], line 56\u001b[0m\n\u001b[0;32m     53\u001b[0m     plt\u001b[38;5;241m.\u001b[39mgrid(\u001b[38;5;28;01mTrue\u001b[39;00m)\n\u001b[0;32m     54\u001b[0m     plt\u001b[38;5;241m.\u001b[39mshow()\n\u001b[1;32m---> 56\u001b[0m \u001b[43mexact_solve\u001b[49m\u001b[43m(\u001b[49m\u001b[38;5;124;43m\"\u001b[39;49m\u001b[38;5;124;43mx+y\u001b[39;49m\u001b[38;5;124;43m\"\u001b[39;49m\u001b[43m,\u001b[49m\u001b[43m \u001b[49m\u001b[43mx_0\u001b[49m\u001b[38;5;241;43m=\u001b[39;49m\u001b[38;5;241;43m0\u001b[39;49m\u001b[43m,\u001b[49m\u001b[43m \u001b[49m\u001b[43mx_end\u001b[49m\u001b[38;5;241;43m=\u001b[39;49m\u001b[38;5;241;43m0.5\u001b[39;49m\u001b[43m,\u001b[49m\u001b[43m \u001b[49m\u001b[43my_0\u001b[49m\u001b[38;5;241;43m=\u001b[39;49m\u001b[38;5;241;43m1\u001b[39;49m\u001b[43m,\u001b[49m\u001b[43mstep_size\u001b[49m\u001b[43m \u001b[49m\u001b[38;5;241;43m=\u001b[39;49m\u001b[43m \u001b[49m\u001b[38;5;241;43m0.1\u001b[39;49m\u001b[43m)\u001b[49m\n\u001b[0;32m     58\u001b[0m function\u001b[38;5;241m=\u001b[39mmake_function(\u001b[38;5;124m\"\u001b[39m\u001b[38;5;124mx+y\u001b[39m\u001b[38;5;124m\"\u001b[39m)\n\u001b[0;32m     60\u001b[0m euler_method(function\u001b[38;5;241m=\u001b[39mfunction, step_size \u001b[38;5;241m=\u001b[39m \u001b[38;5;241m0.1\u001b[39m,y_0\u001b[38;5;241m=\u001b[39m\u001b[38;5;241m1\u001b[39m,x_0\u001b[38;5;241m=\u001b[39m\u001b[38;5;241m0\u001b[39m,x_end\u001b[38;5;241m=\u001b[39m\u001b[38;5;241m0.5\u001b[39m)\n",
      "Cell \u001b[1;32mIn[13], line 40\u001b[0m, in \u001b[0;36mexact_solve\u001b[1;34m(equation_str, x_0, x_end, y_0, step_size)\u001b[0m\n\u001b[0;32m     37\u001b[0m \u001b[38;5;28mprint\u001b[39m(constant_value)\n\u001b[0;32m     39\u001b[0m \u001b[38;5;66;03m# Particular solution\u001b[39;00m\n\u001b[1;32m---> 40\u001b[0m particular_solution \u001b[38;5;241m=\u001b[39m \u001b[43msolution\u001b[49m\u001b[38;5;241;43m.\u001b[39;49m\u001b[43msubs\u001b[49m\u001b[43m(\u001b[49m\u001b[43mC\u001b[49m\u001b[43m,\u001b[49m\u001b[43m \u001b[49m\u001b[43mconstant_value\u001b[49m\u001b[43m)\u001b[49m\n\u001b[0;32m     42\u001b[0m \u001b[38;5;28;01mreturn\u001b[39;00m particular_solution\n",
      "File \u001b[1;32mc:\\Users\\Student\\anaconda3\\envs\\pints-env\\lib\\site-packages\\sympy\\core\\basic.py:1074\u001b[0m, in \u001b[0;36mBasic.subs\u001b[1;34m(self, *args, **kwargs)\u001b[0m\n\u001b[0;32m   1071\u001b[0m     \u001b[38;5;28;01melse\u001b[39;00m:\n\u001b[0;32m   1072\u001b[0m         \u001b[38;5;28;01mreturn\u001b[39;00m sympify(new, strict\u001b[38;5;241m=\u001b[39m\u001b[38;5;28;01mTrue\u001b[39;00m)\n\u001b[1;32m-> 1074\u001b[0m sequence \u001b[38;5;241m=\u001b[39m [(sympify_old(s1), sympify_new(s2)) \u001b[38;5;28;01mfor\u001b[39;00m s1, s2 \u001b[38;5;129;01min\u001b[39;00m sequence]\n\u001b[0;32m   1076\u001b[0m \u001b[38;5;66;03m# skip if there is no change\u001b[39;00m\n\u001b[0;32m   1077\u001b[0m sequence \u001b[38;5;241m=\u001b[39m [(s1, s2) \u001b[38;5;28;01mfor\u001b[39;00m s1, s2 \u001b[38;5;129;01min\u001b[39;00m sequence \u001b[38;5;28;01mif\u001b[39;00m \u001b[38;5;129;01mnot\u001b[39;00m _aresame(s1, s2)]\n",
      "File \u001b[1;32mc:\\Users\\Student\\anaconda3\\envs\\pints-env\\lib\\site-packages\\sympy\\core\\basic.py:1074\u001b[0m, in \u001b[0;36m<listcomp>\u001b[1;34m(.0)\u001b[0m\n\u001b[0;32m   1071\u001b[0m     \u001b[38;5;28;01melse\u001b[39;00m:\n\u001b[0;32m   1072\u001b[0m         \u001b[38;5;28;01mreturn\u001b[39;00m sympify(new, strict\u001b[38;5;241m=\u001b[39m\u001b[38;5;28;01mTrue\u001b[39;00m)\n\u001b[1;32m-> 1074\u001b[0m sequence \u001b[38;5;241m=\u001b[39m [(sympify_old(s1), \u001b[43msympify_new\u001b[49m\u001b[43m(\u001b[49m\u001b[43ms2\u001b[49m\u001b[43m)\u001b[49m) \u001b[38;5;28;01mfor\u001b[39;00m s1, s2 \u001b[38;5;129;01min\u001b[39;00m sequence]\n\u001b[0;32m   1076\u001b[0m \u001b[38;5;66;03m# skip if there is no change\u001b[39;00m\n\u001b[0;32m   1077\u001b[0m sequence \u001b[38;5;241m=\u001b[39m [(s1, s2) \u001b[38;5;28;01mfor\u001b[39;00m s1, s2 \u001b[38;5;129;01min\u001b[39;00m sequence \u001b[38;5;28;01mif\u001b[39;00m \u001b[38;5;129;01mnot\u001b[39;00m _aresame(s1, s2)]\n",
      "File \u001b[1;32mc:\\Users\\Student\\anaconda3\\envs\\pints-env\\lib\\site-packages\\sympy\\core\\basic.py:1072\u001b[0m, in \u001b[0;36mBasic.subs.<locals>.sympify_new\u001b[1;34m(new)\u001b[0m\n\u001b[0;32m   1070\u001b[0m     \u001b[38;5;28;01mreturn\u001b[39;00m sympify(new, strict\u001b[38;5;241m=\u001b[39m\u001b[38;5;28;01mFalse\u001b[39;00m)\n\u001b[0;32m   1071\u001b[0m \u001b[38;5;28;01melse\u001b[39;00m:\n\u001b[1;32m-> 1072\u001b[0m     \u001b[38;5;28;01mreturn\u001b[39;00m \u001b[43msympify\u001b[49m\u001b[43m(\u001b[49m\u001b[43mnew\u001b[49m\u001b[43m,\u001b[49m\u001b[43m \u001b[49m\u001b[43mstrict\u001b[49m\u001b[38;5;241;43m=\u001b[39;49m\u001b[38;5;28;43;01mTrue\u001b[39;49;00m\u001b[43m)\u001b[49m\n",
      "File \u001b[1;32mc:\\Users\\Student\\anaconda3\\envs\\pints-env\\lib\\site-packages\\sympy\\core\\sympify.py:454\u001b[0m, in \u001b[0;36msympify\u001b[1;34m(a, locals, convert_xor, strict, rational, evaluate)\u001b[0m\n\u001b[0;32m    451\u001b[0m         \u001b[38;5;28;01mreturn\u001b[39;00m sympify(\u001b[38;5;28mint\u001b[39m(a))\n\u001b[0;32m    453\u001b[0m \u001b[38;5;28;01mif\u001b[39;00m strict:\n\u001b[1;32m--> 454\u001b[0m     \u001b[38;5;28;01mraise\u001b[39;00m SympifyError(a)\n\u001b[0;32m    456\u001b[0m \u001b[38;5;28;01mif\u001b[39;00m iterable(a):\n\u001b[0;32m    457\u001b[0m     \u001b[38;5;28;01mtry\u001b[39;00m:\n",
      "\u001b[1;31mSympifyError\u001b[0m: SympifyError: []"
     ]
    }
   ],
   "source": [
    "def make_function(equation_str):\n",
    "    x,y = sp.symbols('x y')\n",
    "\n",
    "    expr = sp.simplify(equation_str)\n",
    "\n",
    "    return expr\n",
    "\n",
    "def euler_method(function, step_size, y_0, x_0, x_end):\n",
    "    result = function.subs({\"x\": x_0, \"y\": y_0})\n",
    "\n",
    "    x_values = np.arange(x_0, x_end+step_size, step_size)\n",
    "    y_values=[y_0]\n",
    "\n",
    "    print(x_values)\n",
    "\n",
    "    for i in range(len(x_values)-1):\n",
    "        y_value = y_values[i] + (step_size*function.subs({\"x\": x_values[i], \"y\": y_values[i]}))\n",
    "        y_values.append(y_value)\n",
    "    \n",
    "    plot_euler(function, x_values,y_values)\n",
    "\n",
    "def exact_solve(equation_str, x_0, x_end, y_0, step_size):\n",
    "\n",
    "    x,y = sp.symbols('x y')\n",
    "\n",
    "    # Define the symbols\n",
    "    x = sp.Symbol('x')\n",
    "    y = sp.Function('y')\n",
    "\n",
    "    eq = sp.Eq(y(x).diff(x), sp.sympify(equation_str))\n",
    "\n",
    "    # Solve the ODE\n",
    "    solution = sp.dsolve(eq, y(x))\n",
    "\n",
    "    C = sp.Symbol('C')\n",
    "    constant_value = sp.solve(solution.rhs.subs(x, x_0) - y_0, C)\n",
    "    print(constant_value)\n",
    "\n",
    "    # Particular solution\n",
    "    particular_solution = solution.subs(C, constant_value)\n",
    "\n",
    "    return particular_solution\n",
    "\n",
    "# Function to plot Euler's method results\n",
    "def plot_euler(function, x_values, y_values):\n",
    "\n",
    "    plt.figure(figsize=(8, 5))\n",
    "    plt.plot(x_values, y_values, marker='o', linestyle='-', label=\"Euler's Method Approximation\")\n",
    "    plt.xlabel(\"x\")\n",
    "    plt.ylabel(\"y\")\n",
    "    plt.title(f\"Euler's Method for dy/dx = {str(function)}\")\n",
    "    plt.legend()\n",
    "    plt.grid(True)\n",
    "    plt.show()\n",
    "\n",
    "exact_solve(\"x+y\", x_0=0, x_end=0.5, y_0=1,step_size = 0.1)\n",
    "\n",
    "function=make_function(\"x+y\")\n",
    "\n",
    "euler_method(function=function, step_size = 0.1,y_0=1,x_0=0,x_end=0.5)\n"
   ]
  },
  {
   "cell_type": "code",
   "execution_count": null,
   "metadata": {},
   "outputs": [],
   "source": [
    "# david's example\n",
    "\n"
   ]
  },
  {
   "cell_type": "code",
   "execution_count": null,
   "metadata": {},
   "outputs": [
    {
     "ename": "IndexError",
     "evalue": "list index out of range",
     "output_type": "error",
     "traceback": [
      "\u001b[1;31m---------------------------------------------------------------------------\u001b[0m",
      "\u001b[1;31mIndexError\u001b[0m                                Traceback (most recent call last)",
      "Cell \u001b[1;32mIn[14], line 17\u001b[0m\n\u001b[0;32m     15\u001b[0m x0, y0 \u001b[38;5;241m=\u001b[39m \u001b[38;5;241m0\u001b[39m, \u001b[38;5;241m1\u001b[39m  \u001b[38;5;66;03m# Example: y(0) = 1\u001b[39;00m\n\u001b[0;32m     16\u001b[0m C \u001b[38;5;241m=\u001b[39m sp\u001b[38;5;241m.\u001b[39mSymbol(\u001b[38;5;124m'\u001b[39m\u001b[38;5;124mC\u001b[39m\u001b[38;5;124m'\u001b[39m)\n\u001b[1;32m---> 17\u001b[0m constant_value \u001b[38;5;241m=\u001b[39m \u001b[43msp\u001b[49m\u001b[38;5;241;43m.\u001b[39;49m\u001b[43msolve\u001b[49m\u001b[43m(\u001b[49m\u001b[43mgeneral_solution\u001b[49m\u001b[38;5;241;43m.\u001b[39;49m\u001b[43mrhs\u001b[49m\u001b[38;5;241;43m.\u001b[39;49m\u001b[43msubs\u001b[49m\u001b[43m(\u001b[49m\u001b[43mx\u001b[49m\u001b[43m,\u001b[49m\u001b[43m \u001b[49m\u001b[43mx0\u001b[49m\u001b[43m)\u001b[49m\u001b[43m \u001b[49m\u001b[38;5;241;43m-\u001b[39;49m\u001b[43m \u001b[49m\u001b[43my0\u001b[49m\u001b[43m,\u001b[49m\u001b[43m \u001b[49m\u001b[43mC\u001b[49m\u001b[43m)\u001b[49m\u001b[43m[\u001b[49m\u001b[38;5;241;43m0\u001b[39;49m\u001b[43m]\u001b[49m\n\u001b[0;32m     19\u001b[0m \u001b[38;5;66;03m# Particular solution\u001b[39;00m\n\u001b[0;32m     20\u001b[0m particular_solution \u001b[38;5;241m=\u001b[39m general_solution\u001b[38;5;241m.\u001b[39msubs(C, constant_value)\n",
      "\u001b[1;31mIndexError\u001b[0m: list index out of range"
     ]
    }
   ],
   "source": []
  }
 ],
 "metadata": {
  "kernelspec": {
   "display_name": "pints-env",
   "language": "python",
   "name": "python3"
  },
  "language_info": {
   "codemirror_mode": {
    "name": "ipython",
    "version": 3
   },
   "file_extension": ".py",
   "mimetype": "text/x-python",
   "name": "python",
   "nbconvert_exporter": "python",
   "pygments_lexer": "ipython3",
   "version": "3.9.21"
  }
 },
 "nbformat": 4,
 "nbformat_minor": 2
}
