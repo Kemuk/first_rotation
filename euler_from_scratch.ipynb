{
 "cells": [
  {
   "cell_type": "code",
   "execution_count": 2,
   "metadata": {},
   "outputs": [],
   "source": [
    "import numpy as np\n",
    "import matplotlib.pyplot as plt\n",
    "import sympy as sp"
   ]
  },
  {
   "cell_type": "code",
   "execution_count": null,
   "metadata": {},
   "outputs": [
    {
     "name": "stdout",
     "output_type": "stream",
     "text": [
      "[0.  0.1 0.2 0.3 0.4 0.5]\n",
      "[1, 1.10000000000000, 1.22000000000000, 1.36200000000000, 1.52820000000000, 1.72102000000000]\n"
     ]
    }
   ],
   "source": [
    "def make_function(equation_str):\n",
    "    x,y = sp.symbols('x y')\n",
    "\n",
    "    expr = sp.simplify(equation_str)\n",
    "\n",
    "    return expr\n",
    "\n",
    "def euler_method(function, step_size, y_0, x_0, x_end):\n",
    "    result = function.subs({\"x\": x_0, \"y\": y_0})\n",
    "\n",
    "    x_values = np.arange(x_0, x_end+step_size, step_size)\n",
    "    y_values=[y_0]\n",
    "\n",
    "    print(x_values)\n",
    "\n",
    "    for i in range(len(x_values)-1):\n",
    "        y_value = y_values[i] + (step_size*function.subs({\"x\": x_values[i], \"y\": y_values[i]}))\n",
    "        y_values.append(y_value)\n",
    "    \n",
    "    print(y_values)\n",
    "\n",
    "\n",
    "function=make_function(\"x+y\")\n",
    "\n",
    "euler_method(function=function, step_size = 0.1,y_0=1,x_0=0,x_end=0.5)\n",
    "    "
   ]
  },
  {
   "cell_type": "code",
   "execution_count": null,
   "metadata": {},
   "outputs": [],
   "source": [
    "# david's example\n",
    "\n"
   ]
  }
 ],
 "metadata": {
  "kernelspec": {
   "display_name": "pints-env",
   "language": "python",
   "name": "python3"
  },
  "language_info": {
   "codemirror_mode": {
    "name": "ipython",
    "version": 3
   },
   "file_extension": ".py",
   "mimetype": "text/x-python",
   "name": "python",
   "nbconvert_exporter": "python",
   "pygments_lexer": "ipython3",
   "version": "3.9.21"
  }
 },
 "nbformat": 4,
 "nbformat_minor": 2
}
